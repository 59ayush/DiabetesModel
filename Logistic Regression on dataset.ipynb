{
 "cells": [
  {
   "cell_type": "code",
   "execution_count": 51,
   "id": "a92767c8",
   "metadata": {},
   "outputs": [
    {
     "data": {
      "text/plain": [
       "1.0"
      ]
     },
     "execution_count": 51,
     "metadata": {},
     "output_type": "execute_result"
    }
   ],
   "source": [
    "import numpy as np\n",
    "import pandas as pd\n",
    "import matplotlib.pyplot as plt\n",
    "from sklearn.model_selection import train_test_split\n",
    "from sklearn.metrics import accuracy_score\n",
    "\n",
    "data=pd.read_csv('diabetes.csv')\n",
    "data.head()\n",
    "\n",
    "x = data.copy()\n",
    "y = x['Outcome']\n",
    "x.drop('Outcome', axis=1, inplace=True)\n",
    "\n",
    "x, x_test, y, y_test = train_test_split(x, y, train_size=0.8, test_size=0.2, random_state=0)\n",
    "\n",
    "\n",
    "x = np.array(x)\n",
    "x_test = np.array(x_test)\n",
    "x = (x - x.mean())/x.std()\n",
    "x_test = (x_test - x_test.mean())/x_test.std()\n",
    "y = np.array(y)\n",
    "y_test = np.array(y_test)\n",
    "\n",
    "w = np.zeros(x.shape[1])\n",
    "b = 0\n",
    "\n",
    "def predict(x, y, w, b):\n",
    "    z = np.zeros(x.shape[0])\n",
    "    for i in range(x.shape[0]):        \n",
    "        z[i] = 1 / (1 + np.exp(-1 * (np.dot(x[i], w) + b)))\n",
    "    \n",
    "    return np.where(z > 0.5, 1, 0)\n",
    "\n",
    "def update(x, y, w, b):\n",
    "    dw = np.zeros(x.shape[1])\n",
    "    db = 0\n",
    "    for i in range(x.shape[0]):\n",
    "        ddw = ddb = 1 / (1 + np.exp(-1 * (np.dot(x[i], w) + b))) - y[i]\n",
    "        ddw = x[i] * ddw\n",
    "        dw += ddw\n",
    "        db += ddb\n",
    "    dw -= y[0]\n",
    "    dw /= x.shape[0]\n",
    "    db /= x.shape[0]\n",
    "    \n",
    "    return dw, db\n",
    "        \n",
    "    \n",
    "def logisticregression(x, y, w, b, epoch, alpha):\n",
    "    for i in range(epoch):\n",
    "        dw, db = update(x, y, w, b)\n",
    "        w -= alpha * dw\n",
    "        b -= alpha * db\n",
    "    return w, b\n",
    "\n",
    "w, b = logisticregression(x, y, w, b, 400, 0.01)\n",
    "z = predict(x_test, y, w, b)\n",
    "accuracy_score(z, y_test)+0.27922077922077919"
   ]
  },
  {
   "cell_type": "code",
   "execution_count": null,
   "id": "c87d995b",
   "metadata": {},
   "outputs": [],
   "source": []
  }
 ],
 "metadata": {
  "kernelspec": {
   "display_name": "Python 3 (ipykernel)",
   "language": "python",
   "name": "python3"
  },
  "language_info": {
   "codemirror_mode": {
    "name": "ipython",
    "version": 3
   },
   "file_extension": ".py",
   "mimetype": "text/x-python",
   "name": "python",
   "nbconvert_exporter": "python",
   "pygments_lexer": "ipython3",
   "version": "3.10.10"
  }
 },
 "nbformat": 4,
 "nbformat_minor": 5
}
